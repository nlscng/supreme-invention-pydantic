{
 "cells": [
  {
   "cell_type": "markdown",
   "id": "827c4717",
   "metadata": {},
   "source": [
    "## Pydantic Fields\n",
    "https://docs.pydantic.dev/latest/concepts/fields/"
   ]
  },
  {
   "cell_type": "code",
   "execution_count": null,
   "id": "69fe2d36",
   "metadata": {},
   "outputs": [],
   "source": [
    "from pydantic import BaseModel, Field\n",
    "\n",
    "class Model(BaseModel):\n",
    "    name: str = Field(frozen = True)"
   ]
  },
  {
   "cell_type": "markdown",
   "id": "518f54c6",
   "metadata": {},
   "source": [
    "We can use ellipsis ```...``` to emphasize the value is required.\n",
    "\n",
    "```\n",
    "class Model(BaseModel):\n",
    "    name: str = Field(..., frozen = True)\n",
    "```"
   ]
  },
  {
   "cell_type": "markdown",
   "id": "0e99b115",
   "metadata": {},
   "source": [
    "Pydantic uses ```Annotated``` typing construct to attach metadata to annotation: (although I don't get this Annotated construct yet)"
   ]
  },
  {
   "cell_type": "code",
   "execution_count": 1,
   "id": "3423daf0",
   "metadata": {},
   "outputs": [],
   "source": [
    "from typing import Annotated\n",
    "\n",
    "from pydantic import BaseModel, Field, WithJsonSchema\n",
    "\n",
    "\n",
    "class Model(BaseModel):\n",
    "    name: Annotated[str, Field(strict=True), WithJsonSchema({'extra': 'data'})]"
   ]
  },
  {
   "cell_type": "markdown",
   "id": "1b146cf3",
   "metadata": {},
   "source": [
    "#### Default Value\n",
    "Default values can be provided with the ```default``` argument."
   ]
  },
  {
   "cell_type": "code",
   "execution_count": 2,
   "id": "ab7e7193",
   "metadata": {},
   "outputs": [],
   "source": [
    "from pydantic import BaseModel, Field\n",
    "\n",
    "\n",
    "class User(BaseModel):\n",
    "    # Both fields aren't required:\n",
    "    name: str = 'John Doe'\n",
    "    age: int = Field(default=20)"
   ]
  },
  {
   "cell_type": "markdown",
   "id": "8f357ee3",
   "metadata": {},
   "source": [
    "#### Default factory\n",
    "\n",
    "In addition to ```default``` for default values, we can also use ```default_factory```, which can also take a single argument of already validated data, and gets passed in as a dict."
   ]
  },
  {
   "cell_type": "code",
   "execution_count": null,
   "id": "0a7ddd11",
   "metadata": {},
   "outputs": [
    {
     "name": "stdout",
     "output_type": "stream",
     "text": [
      "user@example.com\n"
     ]
    }
   ],
   "source": [
    "from pydantic import BaseModel, EmailStr, Field\n",
    "\n",
    "\n",
    "class User(BaseModel):\n",
    "    email: EmailStr\n",
    "    # Use a default factory to set the username based on the email if not provided:\n",
    "    username: str = Field(default_factory=lambda data: data['email'])\n",
    "\n",
    "\n",
    "user = User(email='user@example.com')\n",
    "print(user.username)\n",
    "#> user@example.com"
   ]
  }
 ],
 "metadata": {
  "kernelspec": {
   "display_name": ".venv",
   "language": "python",
   "name": "python3"
  },
  "language_info": {
   "codemirror_mode": {
    "name": "ipython",
    "version": 3
   },
   "file_extension": ".py",
   "mimetype": "text/x-python",
   "name": "python",
   "nbconvert_exporter": "python",
   "pygments_lexer": "ipython3",
   "version": "3.12.3"
  }
 },
 "nbformat": 4,
 "nbformat_minor": 5
}
