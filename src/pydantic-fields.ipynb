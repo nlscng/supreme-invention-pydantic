{
 "cells": [
  {
   "cell_type": "markdown",
   "id": "827c4717",
   "metadata": {},
   "source": [
    "## Pydantic Fields\n",
    "https://docs.pydantic.dev/latest/concepts/fields/"
   ]
  },
  {
   "cell_type": "code",
   "execution_count": null,
   "id": "69fe2d36",
   "metadata": {},
   "outputs": [],
   "source": [
    "from pydantic import BaseModel, Field\n",
    "\n",
    "class Model(BaseModel):\n",
    "    name: str = Field(frozen = True)"
   ]
  },
  {
   "cell_type": "markdown",
   "id": "518f54c6",
   "metadata": {},
   "source": [
    "We can use ellipsis ```...``` to emphasize the value is required.\n",
    "\n",
    "```\n",
    "class Model(BaseModel):\n",
    "    name: str = Field(..., frozen = True)\n",
    "```"
   ]
  },
  {
   "cell_type": "markdown",
   "id": "0e99b115",
   "metadata": {},
   "source": [
    "Pydantic uses ```Annotated``` typing construct to attach metadata to annotation: (although I don't get this Annotated construct yet)"
   ]
  },
  {
   "cell_type": "code",
   "execution_count": 1,
   "id": "3423daf0",
   "metadata": {},
   "outputs": [],
   "source": [
    "from typing import Annotated\n",
    "\n",
    "from pydantic import BaseModel, Field, WithJsonSchema\n",
    "\n",
    "\n",
    "class Model(BaseModel):\n",
    "    name: Annotated[str, Field(strict=True), WithJsonSchema({'extra': 'data'})]"
   ]
  },
  {
   "cell_type": "markdown",
   "id": "1b146cf3",
   "metadata": {},
   "source": [
    "#### Default Value\n",
    "Default values can be provided with the ```default``` argument."
   ]
  },
  {
   "cell_type": "code",
   "execution_count": 2,
   "id": "ab7e7193",
   "metadata": {},
   "outputs": [],
   "source": [
    "from pydantic import BaseModel, Field\n",
    "\n",
    "\n",
    "class User(BaseModel):\n",
    "    # Both fields aren't required:\n",
    "    name: str = 'John Doe'\n",
    "    age: int = Field(default=20)"
   ]
  },
  {
   "cell_type": "markdown",
   "id": "8f357ee3",
   "metadata": {},
   "source": [
    "#### Default factory\n",
    "\n",
    "In addition to ```default``` for default values, we can also use ```default_factory```, which can also take a single argument of already validated data, and gets passed in as a dict."
   ]
  },
  {
   "cell_type": "code",
   "execution_count": null,
   "id": "0a7ddd11",
   "metadata": {},
   "outputs": [
    {
     "name": "stdout",
     "output_type": "stream",
     "text": [
      "user@example.com\n"
     ]
    }
   ],
   "source": [
    "from pydantic import BaseModel, EmailStr, Field\n",
    "\n",
    "\n",
    "class User(BaseModel):\n",
    "    email: EmailStr\n",
    "    # Use a default factory to set the username based on the email if not provided:\n",
    "    username: str = Field(default_factory=lambda data: data['email'])\n",
    "\n",
    "\n",
    "user = User(email='user@example.com')\n",
    "print(user.username)\n",
    "#> user@example.com"
   ]
  },
  {
   "cell_type": "markdown",
   "id": "78898c87",
   "metadata": {},
   "source": [
    "#### Enable validation default values\n",
    "\n",
    "By default, Pydantic won't validate default values, but we can enable this behavior by ```validate_default``` argument."
   ]
  },
  {
   "cell_type": "code",
   "execution_count": 5,
   "id": "4f3f83d6",
   "metadata": {},
   "outputs": [
    {
     "name": "stdout",
     "output_type": "stream",
     "text": [
      "1 validation error for User\n",
      "age\n",
      "  Input should be a valid integer, unable to parse string as an integer [type=int_parsing, input_value='twelve', input_type=str]\n",
      "    For further information visit https://errors.pydantic.dev/2.11/v/int_parsing\n"
     ]
    }
   ],
   "source": [
    "from pydantic import BaseModel, Field, ValidationError\n",
    "\n",
    "\n",
    "class User(BaseModel):\n",
    "    age: int = Field(default='twelve', validate_default=True)\n",
    "\n",
    "\n",
    "try:\n",
    "    user = User()\n",
    "except ValidationError as e:\n",
    "    print(e)\n",
    "    \"\"\"\n",
    "    1 validation error for User\n",
    "    age\n",
    "      Input should be a valid integer, unable to parse string as an integer [type=int_parsing, input_value='twelve', input_type=str]\n",
    "    \"\"\""
   ]
  },
  {
   "cell_type": "markdown",
   "id": "28e74c90",
   "metadata": {},
   "source": [
    "#### Numeric Constraints\n",
    "\n",
    "There are some keyword arguments that can be used to constrain numeric values:\n",
    "\n",
    "* gt - greater than\n",
    "* lt - less than\n",
    "* ge - greater than or equal to\n",
    "* le - less than or equal to\n",
    "* multiple_of - a multiple of the given number\n",
    "* allow_inf_nan - allow 'inf', '-inf', 'nan' values"
   ]
  },
  {
   "cell_type": "code",
   "execution_count": 6,
   "id": "8e0e5861",
   "metadata": {},
   "outputs": [
    {
     "name": "stdout",
     "output_type": "stream",
     "text": [
      "positive=1 non_negative=0 negative=-1 non_positive=0 even=2 love_for_pydantic=inf\n"
     ]
    },
    {
     "data": {
      "text/plain": [
       "'\\npositive=1 non_negative=0 negative=-1 non_positive=0 even=2 love_for_pydantic=inf\\n'"
      ]
     },
     "execution_count": 6,
     "metadata": {},
     "output_type": "execute_result"
    }
   ],
   "source": [
    "from pydantic import BaseModel, Field\n",
    "\n",
    "\n",
    "class Foo(BaseModel):\n",
    "    positive: int = Field(gt=0)\n",
    "    non_negative: int = Field(ge=0)\n",
    "    negative: int = Field(lt=0)\n",
    "    non_positive: int = Field(le=0)\n",
    "    even: int = Field(multiple_of=2)\n",
    "    love_for_pydantic: float = Field(allow_inf_nan=True)\n",
    "\n",
    "\n",
    "foo = Foo(\n",
    "    positive=1,\n",
    "    non_negative=0,\n",
    "    negative=-1,\n",
    "    non_positive=0,\n",
    "    even=2,\n",
    "    love_for_pydantic=float('inf'),\n",
    ")\n",
    "print(foo)\n",
    "\"\"\"\n",
    "positive=1 non_negative=0 negative=-1 non_positive=0 even=2 love_for_pydantic=inf\n",
    "\"\"\""
   ]
  },
  {
   "cell_type": "markdown",
   "id": "1b4569a9",
   "metadata": {},
   "source": [
    "#### String Constraints\n",
    "\n",
    "* min_length: Minimum length of the string.\n",
    "* max_length: Maximum length of the string.\n",
    "* pattern: A regular expression that the string must match."
   ]
  },
  {
   "cell_type": "code",
   "execution_count": 7,
   "id": "a2471fb3",
   "metadata": {},
   "outputs": [
    {
     "name": "stdout",
     "output_type": "stream",
     "text": [
      "short='foo' long='foobarbaz' regex='123'\n"
     ]
    }
   ],
   "source": [
    "from pydantic import BaseModel, Field\n",
    "\n",
    "\n",
    "class Foo(BaseModel):\n",
    "    short: str = Field(min_length=3)\n",
    "    long: str = Field(max_length=10)\n",
    "    regex: str = Field(pattern=r'^\\d*$')  \n",
    "\n",
    "\n",
    "foo = Foo(short='foo', long='foobarbaz', regex='123')\n",
    "print(foo)\n",
    "#> short='foo' long='foobarbaz' regex='123'"
   ]
  },
  {
   "cell_type": "markdown",
   "id": "64f39142",
   "metadata": {},
   "source": [
    "### Decimal Constraint\n",
    "\n",
    "* ```max_digits```: the max number of digits, doesn't count leading or trailing zeros.\n",
    "* ```decimal_places```: max number of decimal places allowed. doesn't count trailing zeros."
   ]
  },
  {
   "cell_type": "code",
   "execution_count": 1,
   "id": "1e686e75",
   "metadata": {},
   "outputs": [
    {
     "name": "stdout",
     "output_type": "stream",
     "text": [
      "precise=Decimal('123.45')\n"
     ]
    }
   ],
   "source": [
    "from decimal import Decimal\n",
    "\n",
    "from pydantic import BaseModel, Field\n",
    "\n",
    "\n",
    "class Foo(BaseModel):\n",
    "    precise: Decimal = Field(max_digits=5, decimal_places=2)\n",
    "\n",
    "\n",
    "foo = Foo(precise=Decimal('123.45'))\n",
    "print(foo)\n",
    "#> precise=Decimal('123.45')"
   ]
  }
 ],
 "metadata": {
  "kernelspec": {
   "display_name": ".venv",
   "language": "python",
   "name": "python3"
  },
  "language_info": {
   "codemirror_mode": {
    "name": "ipython",
    "version": 3
   },
   "file_extension": ".py",
   "mimetype": "text/x-python",
   "name": "python",
   "nbconvert_exporter": "python",
   "pygments_lexer": "ipython3",
   "version": "3.12.3"
  }
 },
 "nbformat": 4,
 "nbformat_minor": 5
}
