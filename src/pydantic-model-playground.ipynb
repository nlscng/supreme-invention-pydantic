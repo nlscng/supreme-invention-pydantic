{
 "cells": [
  {
   "cell_type": "code",
   "execution_count": 1,
   "id": "fde5355c",
   "metadata": {},
   "outputs": [],
   "source": [
    "from pydantic import BaseModel, ConfigDict\n",
    "\n",
    "\n",
    "class User(BaseModel):\n",
    "    id: int\n",
    "    name: str = 'Jane Doe'\n",
    "\n",
    "    model_config = ConfigDict(str_max_length=10)"
   ]
  },
  {
   "cell_type": "code",
   "execution_count": 2,
   "id": "599537c3",
   "metadata": {},
   "outputs": [
    {
     "name": "stdout",
     "output_type": "stream",
     "text": [
      "id=1 name='John Smith'\n"
     ]
    }
   ],
   "source": [
    "user = User(id=1, name='John Smith')\n",
    "print(user)"
   ]
  },
  {
   "cell_type": "markdown",
   "id": "2cdcf678",
   "metadata": {},
   "source": [
    "Using Pydantic, object creation with models requires named argument passing."
   ]
  },
  {
   "cell_type": "code",
   "execution_count": null,
   "id": "f649a323",
   "metadata": {},
   "outputs": [],
   "source": [
    "# user = User(1, John Smith')"
   ]
  },
  {
   "cell_type": "markdown",
   "id": "b3db51c6",
   "metadata": {},
   "source": [
    "Using ```model_dump()``` to serialize, or turn into a dict."
   ]
  },
  {
   "cell_type": "code",
   "execution_count": 4,
   "id": "f795dbc8",
   "metadata": {},
   "outputs": [],
   "source": [
    "assert user.model_dump() == {'id': 1, 'name': 'John Smith'}"
   ]
  },
  {
   "cell_type": "markdown",
   "id": "71afc36e",
   "metadata": {},
   "source": [
    "### Data Conversion\n",
    "\n",
    "We may lose some information during pydantic data conversion, like the example below, we went from an input of 3.000 in float, to int of 3.\n",
    "\n",
    "To fix this, pydantic provides a strict mode, which has several ways to enforcing type matching."
   ]
  },
  {
   "cell_type": "code",
   "execution_count": 5,
   "id": "b2858aa3",
   "metadata": {},
   "outputs": [
    {
     "name": "stdout",
     "output_type": "stream",
     "text": [
      "{'a': 3, 'b': 2.72, 'c': 'binary data'}\n"
     ]
    }
   ],
   "source": [
    "from pydantic import BaseModel\n",
    "\n",
    "\n",
    "class Model(BaseModel):\n",
    "    a: int\n",
    "    b: float\n",
    "    c: str\n",
    "\n",
    "\n",
    "print(Model(a=3.000, b='2.72', c=b'binary data').model_dump())\n",
    "#> {'a': 3, 'b': 2.72, 'c': 'binary data'}"
   ]
  },
  {
   "cell_type": "markdown",
   "id": "3f465ab2",
   "metadata": {},
   "source": [
    "Extra fields\n",
    "\n",
    "By default, Pydantic will ignore extra fields that are not defined in the model. You can change this behavior by setting `extra` in the model's config."
   ]
  },
  {
   "cell_type": "code",
   "execution_count": 7,
   "id": "fc4e9750",
   "metadata": {},
   "outputs": [],
   "source": [
    "class Model(BaseModel):\n",
    "    x: int\n",
    "\n",
    "\n",
    "m = Model(x=1, y='a')\n",
    "assert m.model_dump() == {'x': 1}"
   ]
  },
  {
   "cell_type": "markdown",
   "id": "06325c5f",
   "metadata": {},
   "source": [
    "Nested models can be used as well"
   ]
  },
  {
   "cell_type": "code",
   "execution_count": null,
   "id": "88d5946b",
   "metadata": {},
   "outputs": [
    {
     "name": "stdout",
     "output_type": "stream",
     "text": [
      "foo=Foo(count=4, size=None) bars=[Bar(apple='x1', banana='y'), Bar(apple='x2', banana='y')]\n",
      "{'foo': {'count': 4, 'size': None}, 'bars': [{'apple': 'x1', 'banana': 'y'}, {'apple': 'x2', 'banana': 'y'}]}\n"
     ]
    },
    {
     "data": {
      "text/plain": [
       "\"\\n{\\n    'foo': {'count': 4, 'size': None},\\n    'bars': [{'apple': 'x1', 'banana': 'y'}, {'apple': 'x2', 'banana': 'y'}],\\n}\\n\""
      ]
     },
     "execution_count": 8,
     "metadata": {},
     "output_type": "execute_result"
    }
   ],
   "source": [
    "from pydantic import BaseModel\n",
    "\n",
    "\n",
    "class Foo(BaseModel):\n",
    "    count: int\n",
    "    size: float | None = None\n",
    "\n",
    "\n",
    "class Bar(BaseModel):\n",
    "    apple: str = 'x'\n",
    "    banana: str = 'y'\n",
    "\n",
    "\n",
    "class Spam(BaseModel):\n",
    "    foo: Foo\n",
    "    bars: list[Bar]\n",
    "\n",
    "\n",
    "m = Spam(foo={'count': 4}, bars=[{'apple': 'x1'}, {'apple': 'x2'}])\n",
    "print(m)\n",
    "#>foo=Foo(count=4, size=None) bars=[Bar(apple='x1', banana='y'), Bar(apple='x2', banana='y')]\n",
    "print(m.model_dump())\n",
    "\"\"\"\n",
    "{\n",
    "    'foo': {'count': 4, 'size': None},\n",
    "    'bars': [{'apple': 'x1', 'banana': 'y'}, {'apple': 'x2', 'banana': 'y'}],\n",
    "}\n",
    "\"\"\""
   ]
  },
  {
   "cell_type": "markdown",
   "id": "1e31aef3",
   "metadata": {},
   "source": [
    "#### Rebuilding model schema\n",
    "\n",
    "I don't fully get this section is talking about yet."
   ]
  },
  {
   "cell_type": "markdown",
   "id": "79eda93d",
   "metadata": {},
   "source": [
    "#### Nested attributes\n",
    "\n",
    "I don't understand this one yet either."
   ]
  }
 ],
 "metadata": {
  "kernelspec": {
   "display_name": ".venv",
   "language": "python",
   "name": "python3"
  },
  "language_info": {
   "codemirror_mode": {
    "name": "ipython",
    "version": 3
   },
   "file_extension": ".py",
   "mimetype": "text/x-python",
   "name": "python",
   "nbconvert_exporter": "python",
   "pygments_lexer": "ipython3",
   "version": "3.12.3"
  }
 },
 "nbformat": 4,
 "nbformat_minor": 5
}
