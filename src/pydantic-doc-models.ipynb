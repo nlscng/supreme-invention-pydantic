{
 "cells": [
  {
   "cell_type": "code",
   "execution_count": 1,
   "id": "fde5355c",
   "metadata": {},
   "outputs": [],
   "source": [
    "from pydantic import BaseModel, ConfigDict\n",
    "\n",
    "\n",
    "class User(BaseModel):\n",
    "    id: int\n",
    "    name: str = 'Jane Doe'\n",
    "\n",
    "    model_config = ConfigDict(str_max_length=10)"
   ]
  },
  {
   "cell_type": "code",
   "execution_count": 2,
   "id": "599537c3",
   "metadata": {},
   "outputs": [
    {
     "name": "stdout",
     "output_type": "stream",
     "text": [
      "id=1 name='John Smith'\n"
     ]
    }
   ],
   "source": [
    "user = User(id=1, name='John Smith')\n",
    "print(user)"
   ]
  },
  {
   "cell_type": "markdown",
   "id": "2cdcf678",
   "metadata": {},
   "source": [
    "Using Pydantic, object creation with models requires named argument passing."
   ]
  },
  {
   "cell_type": "code",
   "execution_count": null,
   "id": "f649a323",
   "metadata": {},
   "outputs": [],
   "source": [
    "# user = User(1, John Smith')"
   ]
  },
  {
   "cell_type": "markdown",
   "id": "b3db51c6",
   "metadata": {},
   "source": [
    "Using ```model_dump()``` to serialize, or turn into a dict."
   ]
  },
  {
   "cell_type": "code",
   "execution_count": 4,
   "id": "f795dbc8",
   "metadata": {},
   "outputs": [],
   "source": [
    "assert user.model_dump() == {'id': 1, 'name': 'John Smith'}"
   ]
  },
  {
   "cell_type": "markdown",
   "id": "71afc36e",
   "metadata": {},
   "source": [
    "### Data Conversion\n",
    "\n",
    "We may lose some information during pydantic data conversion, like the example below, we went from an input of 3.000 in float, to int of 3.\n",
    "\n",
    "To fix this, pydantic provides a strict mode, which has several ways to enforcing type matching."
   ]
  },
  {
   "cell_type": "code",
   "execution_count": 4,
   "id": "b2858aa3",
   "metadata": {},
   "outputs": [
    {
     "name": "stdout",
     "output_type": "stream",
     "text": [
      "{'a': 3, 'b': 2.72, 'c': 'binary data'}\n"
     ]
    }
   ],
   "source": [
    "from pydantic import BaseModel\n",
    "\n",
    "\n",
    "class Model(BaseModel):\n",
    "    a: int\n",
    "    b: float\n",
    "    c: str\n",
    "\n",
    "\n",
    "print(Model(a=3.000, b='2.72', c=b'binary data').model_dump())\n",
    "#> {'a': 3, 'b': 2.72, 'c': 'binary data'}"
   ]
  },
  {
   "cell_type": "code",
   "execution_count": 8,
   "id": "48d7b117",
   "metadata": {},
   "outputs": [
    {
     "name": "stdout",
     "output_type": "stream",
     "text": [
      "{\n",
      "  \"a\": 3,\n",
      "  \"b\": 2.72,\n",
      "  \"c\": \"binary data\"\n",
      "}\n"
     ]
    }
   ],
   "source": [
    "print(Model(a=3.000, b='2.72', c=b'binary data').model_dump_json(indent=2))"
   ]
  },
  {
   "cell_type": "markdown",
   "id": "3f465ab2",
   "metadata": {},
   "source": [
    "Extra fields\n",
    "\n",
    "By default, Pydantic will ignore extra fields that are not defined in the model. You can change this behavior by setting `extra` in the model's config."
   ]
  },
  {
   "cell_type": "code",
   "execution_count": 10,
   "id": "fc4e9750",
   "metadata": {},
   "outputs": [],
   "source": [
    "class Model(BaseModel):\n",
    "    x: int\n",
    "\n",
    "\n",
    "m = Model(x=1, y='a')\n",
    "assert m.model_dump() == {'x': 1}"
   ]
  },
  {
   "cell_type": "code",
   "execution_count": 11,
   "id": "cd392dba",
   "metadata": {},
   "outputs": [
    {
     "name": "stdout",
     "output_type": "stream",
     "text": [
      "x=1\n"
     ]
    }
   ],
   "source": [
    "print(m)"
   ]
  },
  {
   "cell_type": "markdown",
   "id": "06325c5f",
   "metadata": {},
   "source": [
    "Nested models can be used as well"
   ]
  },
  {
   "cell_type": "code",
   "execution_count": null,
   "id": "88d5946b",
   "metadata": {},
   "outputs": [
    {
     "name": "stdout",
     "output_type": "stream",
     "text": [
      "foo=Foo(count=4, size=None) bars=[Bar(apple='x1', banana='y'), Bar(apple='x2', banana='y')]\n",
      "{'foo': {'count': 4, 'size': None}, 'bars': [{'apple': 'x1', 'banana': 'y'}, {'apple': 'x2', 'banana': 'y'}]}\n"
     ]
    },
    {
     "data": {
      "text/plain": [
       "\"\\n{\\n    'foo': {'count': 4, 'size': None},\\n    'bars': [{'apple': 'x1', 'banana': 'y'}, {'apple': 'x2', 'banana': 'y'}],\\n}\\n\""
      ]
     },
     "execution_count": 8,
     "metadata": {},
     "output_type": "execute_result"
    }
   ],
   "source": [
    "from pydantic import BaseModel\n",
    "\n",
    "\n",
    "class Foo(BaseModel):\n",
    "    count: int\n",
    "    size: float | None = None\n",
    "\n",
    "\n",
    "class Bar(BaseModel):\n",
    "    apple: str = 'x'\n",
    "    banana: str = 'y'\n",
    "\n",
    "\n",
    "class Spam(BaseModel):\n",
    "    foo: Foo\n",
    "    bars: list[Bar]\n",
    "\n",
    "\n",
    "m = Spam(foo={'count': 4}, bars=[{'apple': 'x1'}, {'apple': 'x2'}])\n",
    "print(m)\n",
    "#>foo=Foo(count=4, size=None) bars=[Bar(apple='x1', banana='y'), Bar(apple='x2', banana='y')]\n",
    "print(m.model_dump())\n",
    "\"\"\"\n",
    "{\n",
    "    'foo': {'count': 4, 'size': None},\n",
    "    'bars': [{'apple': 'x1', 'banana': 'y'}, {'apple': 'x2', 'banana': 'y'}],\n",
    "}\n",
    "\"\"\""
   ]
  },
  {
   "cell_type": "markdown",
   "id": "1e31aef3",
   "metadata": {},
   "source": [
    "#### Rebuilding model schema\n",
    "\n",
    "I don't fully get this section is talking about yet."
   ]
  },
  {
   "cell_type": "markdown",
   "id": "79eda93d",
   "metadata": {},
   "source": [
    "#### Nested attributes\n",
    "\n",
    "I don't understand this one yet either."
   ]
  },
  {
   "cell_type": "markdown",
   "id": "03cde83b",
   "metadata": {},
   "source": [
    "#### Error handling\n",
    "\n",
    "Pydantic will raise ```ValidationError``` when data validation fails."
   ]
  },
  {
   "cell_type": "code",
   "execution_count": 1,
   "id": "0da3ed3e",
   "metadata": {},
   "outputs": [
    {
     "name": "stdout",
     "output_type": "stream",
     "text": [
      "2 validation errors for Model\n",
      "list_of_ints.2\n",
      "  Input should be a valid integer, unable to parse string as an integer [type=int_parsing, input_value='bad', input_type=str]\n",
      "    For further information visit https://errors.pydantic.dev/2.11/v/int_parsing\n",
      "a_float\n",
      "  Input should be a valid number, unable to parse string as a number [type=float_parsing, input_value='not a float', input_type=str]\n",
      "    For further information visit https://errors.pydantic.dev/2.11/v/float_parsing\n"
     ]
    }
   ],
   "source": [
    "from pydantic import BaseModel, ValidationError\n",
    "\n",
    "\n",
    "class Model(BaseModel):\n",
    "    list_of_ints: list[int]\n",
    "    a_float: float\n",
    "\n",
    "\n",
    "data = dict(\n",
    "    list_of_ints=['1', 2, 'bad'],\n",
    "    a_float='not a float',\n",
    ")\n",
    "\n",
    "try:\n",
    "    Model(**data)\n",
    "except ValidationError as e:\n",
    "    print(e)\n",
    "    \"\"\"\n",
    "    2 validation errors for Model\n",
    "    list_of_ints.2\n",
    "      Input should be a valid integer, unable to parse string as an integer [type=int_parsing, input_value='bad', input_type=str]\n",
    "    a_float\n",
    "      Input should be a valid number, unable to parse string as a number [type=float_parsing, input_value='not a float', input_type=str]\n",
    "    \"\"\""
   ]
  },
  {
   "cell_type": "markdown",
   "id": "9893edcf",
   "metadata": {},
   "source": [
    "#### Validating data\n",
    "Pydantic has three ways to validate data on model classes:\n",
    "* ```model_validate()``` - very similar to the ```__init__``` method, except this takes a dict or an object\n",
    "* ```model_validate_json()``` - validate a JSON string or ```bytes``` object. Not sure what ```bytes``` object means.\n",
    "* ```model_validate_strings()``` - takes a dict that has string keys and string values, and can have nested dict."
   ]
  },
  {
   "cell_type": "code",
   "execution_count": 12,
   "id": "81755ba8",
   "metadata": {},
   "outputs": [
    {
     "name": "stdout",
     "output_type": "stream",
     "text": [
      "id=123 name='James' signup_ts=None\n",
      "1 validation error for User\n",
      "  Input should be a valid dictionary or instance of User [type=model_type, input_value=['not', 'a', 'dict'], input_type=list]\n",
      "    For further information visit https://errors.pydantic.dev/2.11/v/model_type\n",
      "id=123 name='James' signup_ts=None\n",
      "1 validation error for User\n",
      "name\n",
      "  Input should be a valid string [type=string_type, input_value=123, input_type=int]\n",
      "    For further information visit https://errors.pydantic.dev/2.11/v/string_type\n",
      "1 validation error for User\n",
      "  Invalid JSON: expected value at line 1 column 1 [type=json_invalid, input_value='invalid JSON', input_type=str]\n",
      "    For further information visit https://errors.pydantic.dev/2.11/v/json_invalid\n",
      "id=123 name='James' signup_ts=None\n",
      "id=123 name='James' signup_ts=datetime.datetime(2024, 4, 1, 12, 0)\n",
      "1 validation error for User\n",
      "signup_ts\n",
      "  Input should be a valid datetime, invalid datetime separator, expected `T`, `t`, `_` or space [type=datetime_parsing, input_value='2024-04-01', input_type=str]\n",
      "    For further information visit https://errors.pydantic.dev/2.11/v/datetime_parsing\n"
     ]
    }
   ],
   "source": [
    "from datetime import datetime\n",
    "\n",
    "from pydantic import BaseModel, ValidationError\n",
    "\n",
    "\n",
    "class User(BaseModel):\n",
    "    id: int\n",
    "    name: str = 'John Doe'\n",
    "    signup_ts: datetime | None = None\n",
    "\n",
    "\n",
    "m = User.model_validate({'id': 123, 'name': 'James'})\n",
    "print(m)\n",
    "#> id=123 name='James' signup_ts=None\n",
    "\n",
    "try:\n",
    "    User.model_validate(['not', 'a', 'dict'])\n",
    "except ValidationError as e:\n",
    "    print(e)\n",
    "    \"\"\"\n",
    "    1 validation error for User\n",
    "      Input should be a valid dictionary or instance of User [type=model_type, input_value=['not', 'a', 'dict'], input_type=list]\n",
    "    \"\"\"\n",
    "\n",
    "m = User.model_validate_json('{\"id\": 123, \"name\": \"James\"}')\n",
    "print(m)\n",
    "#> id=123 name='James' signup_ts=None\n",
    "\n",
    "try:\n",
    "    m = User.model_validate_json('{\"id\": 123, \"name\": 123}')\n",
    "except ValidationError as e:\n",
    "    print(e)\n",
    "    \"\"\"\n",
    "    1 validation error for User\n",
    "    name\n",
    "      Input should be a valid string [type=string_type, input_value=123, input_type=int]\n",
    "    \"\"\"\n",
    "\n",
    "try:\n",
    "    m = User.model_validate_json('invalid JSON')\n",
    "except ValidationError as e:\n",
    "    print(e)\n",
    "    \"\"\"\n",
    "    1 validation error for User\n",
    "      Invalid JSON: expected value at line 1 column 1 [type=json_invalid, input_value='invalid JSON', input_type=str]\n",
    "    \"\"\"\n",
    "\n",
    "m = User.model_validate_strings({'id': '123', 'name': 'James'})\n",
    "print(m)\n",
    "#> id=123 name='James' signup_ts=None\n",
    "\n",
    "m = User.model_validate_strings(\n",
    "    {'id': '123', 'name': 'James', 'signup_ts': '2024-04-01T12:00:00'}\n",
    ")\n",
    "print(m)\n",
    "#> id=123 name='James' signup_ts=datetime.datetime(2024, 4, 1, 12, 0)\n",
    "\n",
    "try:\n",
    "    m = User.model_validate_strings(\n",
    "        {'id': '123', 'name': 'James', 'signup_ts': '2024-04-01'}, strict=True\n",
    "    )\n",
    "except ValidationError as e:\n",
    "    print(e)\n",
    "    \"\"\"\n",
    "    1 validation error for User\n",
    "    signup_ts\n",
    "      Input should be a valid datetime, invalid datetime separator, expected `T`, `t`, `_` or space [type=datetime_parsing, input_value='2024-04-01', input_type=str]\n",
    "    \"\"\""
   ]
  },
  {
   "cell_type": "markdown",
   "id": "a7f421b8",
   "metadata": {},
   "source": [
    "#### Creating models without validation\n",
    "There are ways to create pydatnic models without validation, possibly in cases like these:\n",
    "* complex data that is already known to be valid, we can skip validation for perf reasons\n",
    "* when validator function are non-idempotent\n",
    "* when validator function have side effects (doesn't this mean the same as last point?)"
   ]
  }
 ],
 "metadata": {
  "kernelspec": {
   "display_name": ".venv",
   "language": "python",
   "name": "python3"
  },
  "language_info": {
   "codemirror_mode": {
    "name": "ipython",
    "version": 3
   },
   "file_extension": ".py",
   "mimetype": "text/x-python",
   "name": "python",
   "nbconvert_exporter": "python",
   "pygments_lexer": "ipython3",
   "version": "3.12.3"
  }
 },
 "nbformat": 4,
 "nbformat_minor": 5
}
